{
  "nbformat": 4,
  "nbformat_minor": 0,
  "metadata": {
    "colab": {
      "name": "vscode.ipynb",
      "provenance": []
    },
    "kernelspec": {
      "name": "python3",
      "display_name": "Python 3"
    }
  },
  "cells": [
    {
      "cell_type": "code",
      "metadata": {
        "id": "7VGjcp7wTB53",
        "colab_type": "code",
        "colab": {}
      },
      "source": [
        "import random\n",
        "import string\n",
        "import platform as plt\n",
        "import psutil as pc\n",
        "import google.colab.drive as google_drive"
      ],
      "execution_count": 0,
      "outputs": []
    },
    {
      "cell_type": "code",
      "metadata": {
        "id": "pVfMfzGEWQCQ",
        "colab_type": "code",
        "colab": {
          "base_uri": "https://localhost:8080/",
          "height": 34
        },
        "outputId": "3b09766e-ddaa-4453-8c60-2b3e859800cf"
      },
      "source": [
        "google_drive.mount('/content/drive/')"
      ],
      "execution_count": 2,
      "outputs": [
        {
          "output_type": "stream",
          "text": [
            "Drive already mounted at /content/drive/; to attempt to forcibly remount, call drive.mount(\"/content/drive/\", force_remount=True).\n"
          ],
          "name": "stdout"
        }
      ]
    },
    {
      "cell_type": "code",
      "metadata": {
        "id": "F8JRRg6V98kW",
        "colab_type": "code",
        "colab": {}
      },
      "source": [
        "password = ''.join(random.choice(string.ascii_letters + string.digits) for i in range(20))\n",
        "\n",
        "#Download ngrok\n",
        "! wget -q -c -nc https://bin.equinox.io/c/4VmDzA7iaHb/ngrok-stable-linux-amd64.zip\n",
        "! unzip -qq -n ngrok-stable-linux-amd64.zip\n",
        "#Setup sshd\n",
        "! apt-get install -qq -o=Dpkg::Use-Pty=0 openssh-server pwgen > /dev/null\n",
        "#Set root password\n",
        "! echo root:$password | chpasswd\n",
        "! mkdir -p /var/run/sshd\n",
        "! echo \"PermitRootLogin yes\" >> /etc/ssh/sshd_config\n",
        "! echo \"PasswordAuthentication yes\" >> /etc/ssh/sshd_config\n",
        "! echo \"LD_LIBRARY_PATH=/usr/lib64-nvidia\" >> /root/.bashrc\n",
        "! echo \"export LD_LIBRARY_PATH\" >> /root/.bashrc\n",
        "\n",
        "#Run sshd\n",
        "get_ipython().system_raw('/usr/sbin/sshd -D &')\n",
        "\n",
        "#Ask token\n",
        "print(\"Copy authtoken from https://dashboard.ngrok.com/auth\")\n",
        "import getpass\n",
        "authtoken = getpass.getpass()\n",
        "\n",
        "#Create tunnel\n",
        "get_ipython().system_raw('./ngrok authtoken $authtoken && ./ngrok tcp 22 &')\n",
        "#Print root password\n",
        "print(\"Root password: {}\".format(password))\n",
        "#Get public address\n",
        "! curl -s http://localhost:4040/api/tunnels | python3 -c \\\n",
        "    \"import sys, json; print(json.load(sys.stdin)['tunnels'][0]['public_url'])\""
      ],
      "execution_count": 0,
      "outputs": []
    },
    {
      "cell_type": "code",
      "metadata": {
        "id": "4BbRiVSjveLy",
        "colab_type": "code",
        "colab": {}
      },
      "source": [
        "def bit_to_gb(value_bit):\n",
        "  factor = 1024**3\n",
        "  converted = round(value_bit / factor, 2)\n",
        "  range_conversion = 'GB'\n",
        "\n",
        "  if converted == 0:\n",
        "    factor = 1024**2\n",
        "    converted = round(value_bit / factor, 2)\n",
        "    range_conversion = 'MB'\n",
        "\n",
        "  return str(converted) + '  ' + range_conversion"
      ],
      "execution_count": 0,
      "outputs": []
    },
    {
      "cell_type": "code",
      "metadata": {
        "id": "RHm0zfl8S3mV",
        "colab_type": "code",
        "colab": {
          "base_uri": "https://localhost:8080/",
          "height": 470
        },
        "outputId": "e8cbfad4-70dc-4383-9c13-2e3920d0ab42"
      },
      "source": [
        "print(f'OS;')\n",
        "print(f'  Dist:     \\t{plt.dist()[0]}')\n",
        "print(f'  Ver:      \\t{plt.dist()[1]}')\n",
        "print(f'  ID:       \\t{plt.dist()[2]}')\n",
        "\n",
        "print()\n",
        "\n",
        "print(f'CPU')\n",
        "print(f'  Cores:    \\t{pc.cpu_count()}')\n",
        "print(f'  Freq:     \\t{pc.cpu_percent()}')\n",
        "\n",
        "\n",
        "print()\n",
        "\n",
        "disk = pc.disk_usage('/')\n",
        "print(f'DISK')\n",
        "print(f'  Total:    \\t{bit_to_gb(disk.total)}')\n",
        "print(f'  Used:     \\t{bit_to_gb(disk.used)} ')\n",
        "print(f'  Free:     \\t{bit_to_gb(disk.free)} ')\n",
        "print(f'  Percent:  \\t{disk.percent}  \\t%')\n",
        "\n",
        "print()\n",
        "\n",
        "ram = pc.virtual_memory()\n",
        "print(f'RAM')\n",
        "print(f'  Total:    \\t{bit_to_gb(ram.total)} ')\n",
        "print(f'  Available:\\t{bit_to_gb(ram.available)} ')\n",
        "print(f'  Percent:  \\t{ram.percent}  \\t%')\n",
        "print(f'  Used:     \\t{bit_to_gb(ram.used)} ')\n",
        "print(f'  Free:     \\t{bit_to_gb(ram.free)} ')\n",
        "print(f'  Active:   \\t{bit_to_gb(ram.active)} ')\n",
        "print(f'  Inactive: \\t{bit_to_gb(ram.inactive)} ')\n",
        "print(f'  Buffers:  \\t{bit_to_gb(ram.buffers)} ')\n",
        "print(f'  Cached:   \\t{bit_to_gb(ram.cached)} ')\n",
        "print(f'  Shared:   \\t{bit_to_gb(ram.shared) } ')\n",
        "print(f'  Slab:     \\t{bit_to_gb(ram.slab)} ')"
      ],
      "execution_count": 5,
      "outputs": [
        {
          "output_type": "stream",
          "text": [
            "OS;\n",
            "  Dist:     \tUbuntu\n",
            "  Ver:      \t18.04\n",
            "  ID:       \tbionic\n",
            "\n",
            "CPU\n",
            "  Cores:    \t2\n",
            "  Freq:     \t23.0\n",
            "\n",
            "DISK\n",
            "  Total:    \t107.77  GB\n",
            "  Used:     \t31.05  GB \n",
            "  Free:     \t71.21  GB \n",
            "  Percent:  \t30.4  \t%\n",
            "\n",
            "RAM\n",
            "  Total:    \t12.72  GB \n",
            "  Available:\t11.91  GB \n",
            "  Percent:  \t6.4  \t%\n",
            "  Used:     \t0.54  GB \n",
            "  Free:     \t10.15  GB \n",
            "  Active:   \t0.68  GB \n",
            "  Inactive: \t1.65  GB \n",
            "  Buffers:  \t0.07  GB \n",
            "  Cached:   \t1.96  GB \n",
            "  Shared:   \t0.89  MB \n",
            "  Slab:     \t0.15  GB \n"
          ],
          "name": "stdout"
        }
      ]
    },
    {
      "cell_type": "code",
      "metadata": {
        "id": "nysr4nWYQghE",
        "colab_type": "code",
        "colab": {
          "base_uri": "https://localhost:8080/",
          "height": 50
        },
        "outputId": "52ff0472-b740-4545-962d-226f360cefca"
      },
      "source": [
        "!nvidia-smi"
      ],
      "execution_count": 6,
      "outputs": [
        {
          "output_type": "stream",
          "text": [
            "NVIDIA-SMI has failed because it couldn't communicate with the NVIDIA driver. Make sure that the latest NVIDIA driver is installed and running.\n",
            "\n"
          ],
          "name": "stdout"
        }
      ]
    }
  ]
}